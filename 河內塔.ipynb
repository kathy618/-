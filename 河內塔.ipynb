{
  "nbformat": 4,
  "nbformat_minor": 0,
  "metadata": {
    "colab": {
      "name": "河內塔",
      "provenance": [],
      "collapsed_sections": [],
      "authorship_tag": "ABX9TyMo4EUX4KnCvxkA8BjXhgGB",
      "include_colab_link": true
    },
    "kernelspec": {
      "name": "python3",
      "display_name": "Python 3"
    }
  },
  "cells": [
    {
      "cell_type": "markdown",
      "metadata": {
        "id": "view-in-github",
        "colab_type": "text"
      },
      "source": [
        "<a href=\"https://colab.research.google.com/github/kathy618/-/blob/master/%E6%B2%B3%E5%85%A7%E5%A1%94.ipynb\" target=\"_parent\"><img src=\"https://colab.research.google.com/assets/colab-badge.svg\" alt=\"Open In Colab\"/></a>"
      ]
    },
    {
      "cell_type": "code",
      "metadata": {
        "id": "VVnZOB-cASLL",
        "outputId": "eb9f7e07-7644-4b63-f617-ea3f6e6bb7ce",
        "colab": {
          "base_uri": "https://localhost:8080/"
        }
      },
      "source": [
        "def factorial(n):\n",
        "   if n==1:\n",
        "     return 1\n",
        "   return n * f(n-1)\n",
        "def Hanoi(n , a, b, c):\n",
        "  if n==1:\n",
        "    print ( a, \"-->\", c)\n",
        "    return\n",
        "  Hanoi(n-1, a, c, b)\n",
        "  Hanoi(1, a, b, c)\n",
        "  Hanoi(n-1, b, a, c)\n",
        "print(\" 如果盒內塔內有5個盤子\")\n",
        "Hanoi(5, 'A', 'B', 'C')"
      ],
      "execution_count": 7,
      "outputs": [
        {
          "output_type": "stream",
          "text": [
            " 如果盒內塔內有5個盤子\n",
            "A --> C\n",
            "A --> B\n",
            "C --> B\n",
            "A --> C\n",
            "B --> A\n",
            "B --> C\n",
            "A --> C\n",
            "A --> B\n",
            "C --> B\n",
            "C --> A\n",
            "B --> A\n",
            "C --> B\n",
            "A --> C\n",
            "A --> B\n",
            "C --> B\n",
            "A --> C\n",
            "B --> A\n",
            "B --> C\n",
            "A --> C\n",
            "B --> A\n",
            "C --> B\n",
            "C --> A\n",
            "B --> A\n",
            "B --> C\n",
            "A --> C\n",
            "A --> B\n",
            "C --> B\n",
            "A --> C\n",
            "B --> A\n",
            "B --> C\n",
            "A --> C\n"
          ],
          "name": "stdout"
        }
      ]
    }
  ]
}